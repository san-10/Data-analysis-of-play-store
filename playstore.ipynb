{
  "nbformat": 4,
  "nbformat_minor": 0,
  "metadata": {
    "colab": {
      "name": "playstore.ipynb",
      "provenance": []
    },
    "kernelspec": {
      "name": "python3",
      "display_name": "Python 3"
    },
    "language_info": {
      "name": "python"
    }
  },
  "cells": [
    {
      "cell_type": "code",
      "metadata": {
        "id": "RkXzm7DgfjUB"
      },
      "source": [
        "import numpy as np \n",
        "import pandas as pd \n",
        "import matplotlib as plt "
      ],
      "execution_count": null,
      "outputs": []
    },
    {
      "cell_type": "code",
      "metadata": {
        "id": "S7SFQU7ggJUJ"
      },
      "source": [
        "dataset=pd.read_csv('https://raw.githubusercontent.com/AshishJangra27/Data-Analysis-Course-ETG/main/Dataset%20Preprocessing/googleplaystore.csv')"
      ],
      "execution_count": null,
      "outputs": []
    },
    {
      "cell_type": "code",
      "metadata": {
        "id": "W63gpodsgJeq"
      },
      "source": [
        "dataset.drop(['Last Updated', 'Current Ver', 'Android Ver'], axis = 1, inplace = True)"
      ],
      "execution_count": null,
      "outputs": []
    },
    {
      "cell_type": "code",
      "metadata": {
        "id": "QwzKdLX1gU_8"
      },
      "source": [
        "dataset.dropna(inplace = True)"
      ],
      "execution_count": null,
      "outputs": []
    },
    {
      "cell_type": "code",
      "metadata": {
        "colab": {
          "base_uri": "https://localhost:8080/",
          "height": 206
        },
        "id": "eA2taZQwgSId",
        "outputId": "6aeeade8-91bd-4e99-8ccb-544adbf69f93"
      },
      "source": [
        "dataset.head()"
      ],
      "execution_count": null,
      "outputs": [
        {
          "output_type": "execute_result",
          "data": {
            "text/html": [
              "<div>\n",
              "<style scoped>\n",
              "    .dataframe tbody tr th:only-of-type {\n",
              "        vertical-align: middle;\n",
              "    }\n",
              "\n",
              "    .dataframe tbody tr th {\n",
              "        vertical-align: top;\n",
              "    }\n",
              "\n",
              "    .dataframe thead th {\n",
              "        text-align: right;\n",
              "    }\n",
              "</style>\n",
              "<table border=\"1\" class=\"dataframe\">\n",
              "  <thead>\n",
              "    <tr style=\"text-align: right;\">\n",
              "      <th></th>\n",
              "      <th>App</th>\n",
              "      <th>Category</th>\n",
              "      <th>Rating</th>\n",
              "      <th>Reviews</th>\n",
              "      <th>Size</th>\n",
              "      <th>Installs</th>\n",
              "      <th>Type</th>\n",
              "      <th>Price</th>\n",
              "      <th>Content Rating</th>\n",
              "      <th>Genres</th>\n",
              "    </tr>\n",
              "  </thead>\n",
              "  <tbody>\n",
              "    <tr>\n",
              "      <th>0</th>\n",
              "      <td>Photo Editor &amp; Candy Camera &amp; Grid &amp; ScrapBook</td>\n",
              "      <td>ART_AND_DESIGN</td>\n",
              "      <td>4.1</td>\n",
              "      <td>159</td>\n",
              "      <td>19M</td>\n",
              "      <td>10,000+</td>\n",
              "      <td>Free</td>\n",
              "      <td>0</td>\n",
              "      <td>Everyone</td>\n",
              "      <td>Art &amp; Design</td>\n",
              "    </tr>\n",
              "    <tr>\n",
              "      <th>1</th>\n",
              "      <td>Coloring book moana</td>\n",
              "      <td>ART_AND_DESIGN</td>\n",
              "      <td>3.9</td>\n",
              "      <td>967</td>\n",
              "      <td>14M</td>\n",
              "      <td>500,000+</td>\n",
              "      <td>Free</td>\n",
              "      <td>0</td>\n",
              "      <td>Everyone</td>\n",
              "      <td>Art &amp; Design;Pretend Play</td>\n",
              "    </tr>\n",
              "    <tr>\n",
              "      <th>2</th>\n",
              "      <td>U Launcher Lite – FREE Live Cool Themes, Hide ...</td>\n",
              "      <td>ART_AND_DESIGN</td>\n",
              "      <td>4.7</td>\n",
              "      <td>87510</td>\n",
              "      <td>8.7M</td>\n",
              "      <td>5,000,000+</td>\n",
              "      <td>Free</td>\n",
              "      <td>0</td>\n",
              "      <td>Everyone</td>\n",
              "      <td>Art &amp; Design</td>\n",
              "    </tr>\n",
              "    <tr>\n",
              "      <th>3</th>\n",
              "      <td>Sketch - Draw &amp; Paint</td>\n",
              "      <td>ART_AND_DESIGN</td>\n",
              "      <td>4.5</td>\n",
              "      <td>215644</td>\n",
              "      <td>25M</td>\n",
              "      <td>50,000,000+</td>\n",
              "      <td>Free</td>\n",
              "      <td>0</td>\n",
              "      <td>Teen</td>\n",
              "      <td>Art &amp; Design</td>\n",
              "    </tr>\n",
              "    <tr>\n",
              "      <th>4</th>\n",
              "      <td>Pixel Draw - Number Art Coloring Book</td>\n",
              "      <td>ART_AND_DESIGN</td>\n",
              "      <td>4.3</td>\n",
              "      <td>967</td>\n",
              "      <td>2.8M</td>\n",
              "      <td>100,000+</td>\n",
              "      <td>Free</td>\n",
              "      <td>0</td>\n",
              "      <td>Everyone</td>\n",
              "      <td>Art &amp; Design;Creativity</td>\n",
              "    </tr>\n",
              "  </tbody>\n",
              "</table>\n",
              "</div>"
            ],
            "text/plain": [
              "                                                 App  ...                     Genres\n",
              "0     Photo Editor & Candy Camera & Grid & ScrapBook  ...               Art & Design\n",
              "1                                Coloring book moana  ...  Art & Design;Pretend Play\n",
              "2  U Launcher Lite – FREE Live Cool Themes, Hide ...  ...               Art & Design\n",
              "3                              Sketch - Draw & Paint  ...               Art & Design\n",
              "4              Pixel Draw - Number Art Coloring Book  ...    Art & Design;Creativity\n",
              "\n",
              "[5 rows x 10 columns]"
            ]
          },
          "metadata": {},
          "execution_count": 5
        }
      ]
    },
    {
      "cell_type": "code",
      "metadata": {
        "colab": {
          "base_uri": "https://localhost:8080/"
        },
        "id": "T74XO3Q1mQLb",
        "outputId": "2efd7301-c819-4662-fb6d-9e34c22a1e94"
      },
      "source": [
        "dataset['Category'].unique()"
      ],
      "execution_count": null,
      "outputs": [
        {
          "output_type": "execute_result",
          "data": {
            "text/plain": [
              "array(['ART_AND_DESIGN', 'AUTO_AND_VEHICLES', 'BEAUTY',\n",
              "       'BOOKS_AND_REFERENCE', 'BUSINESS', 'COMICS', 'COMMUNICATION',\n",
              "       'DATING', 'EDUCATION', 'ENTERTAINMENT', 'EVENTS', 'FINANCE',\n",
              "       'FOOD_AND_DRINK', 'HEALTH_AND_FITNESS', 'HOUSE_AND_HOME',\n",
              "       'LIBRARIES_AND_DEMO', 'LIFESTYLE', 'GAME', 'FAMILY', 'MEDICAL',\n",
              "       'SOCIAL', 'SHOPPING', 'PHOTOGRAPHY', 'SPORTS', 'TRAVEL_AND_LOCAL',\n",
              "       'TOOLS', 'PERSONALIZATION', 'PRODUCTIVITY', 'PARENTING', 'WEATHER',\n",
              "       'VIDEO_PLAYERS', 'NEWS_AND_MAGAZINES', 'MAPS_AND_NAVIGATION'],\n",
              "      dtype=object)"
            ]
          },
          "metadata": {},
          "execution_count": 6
        }
      ]
    },
    {
      "cell_type": "code",
      "metadata": {
        "id": "6yWL3NqCgqoj"
      },
      "source": [
        "def genres(name):\n",
        "  c = 0\n",
        "  for i in dataset['Genres'].values:\n",
        "    if( i == name):\n",
        "      c += 1\n",
        "  return c"
      ],
      "execution_count": null,
      "outputs": []
    },
    {
      "cell_type": "code",
      "metadata": {
        "id": "IqgKet6Ig6xZ"
      },
      "source": [
        "dct = {}\n",
        "\n",
        "for i in dataset['Genres'].unique():\n",
        "  var = genres(i)\n",
        "  dct[i] = var"
      ],
      "execution_count": null,
      "outputs": []
    },
    {
      "cell_type": "code",
      "metadata": {
        "colab": {
          "base_uri": "https://localhost:8080/"
        },
        "id": "IF_HD0zrhFsW",
        "outputId": "1ae9ea06-f3ab-45c9-ef31-c138f65e88b1"
      },
      "source": [
        "dct"
      ],
      "execution_count": null,
      "outputs": [
        {
          "output_type": "execute_result",
          "data": {
            "text/plain": [
              "{'Action': 358,\n",
              " 'Action;Action & Adventure': 17,\n",
              " 'Adventure': 73,\n",
              " 'Adventure;Action & Adventure': 13,\n",
              " 'Adventure;Brain Games': 1,\n",
              " 'Adventure;Education': 2,\n",
              " 'Arcade': 207,\n",
              " 'Arcade;Action & Adventure': 15,\n",
              " 'Arcade;Pretend Play': 1,\n",
              " 'Art & Design': 56,\n",
              " 'Art & Design;Creativity': 7,\n",
              " 'Art & Design;Pretend Play': 2,\n",
              " 'Auto & Vehicles': 73,\n",
              " 'Beauty': 42,\n",
              " 'Board': 41,\n",
              " 'Board;Action & Adventure': 3,\n",
              " 'Board;Brain Games': 15,\n",
              " 'Board;Pretend Play': 1,\n",
              " 'Books & Reference': 178,\n",
              " 'Books & Reference;Education': 2,\n",
              " 'Business': 303,\n",
              " 'Card': 45,\n",
              " 'Card;Action & Adventure': 2,\n",
              " 'Card;Brain Games': 1,\n",
              " 'Casino': 37,\n",
              " 'Casual': 185,\n",
              " 'Casual;Action & Adventure': 21,\n",
              " 'Casual;Brain Games': 13,\n",
              " 'Casual;Creativity': 7,\n",
              " 'Casual;Education': 3,\n",
              " 'Casual;Music & Video': 2,\n",
              " 'Casual;Pretend Play': 31,\n",
              " 'Comics': 57,\n",
              " 'Comics;Creativity': 1,\n",
              " 'Communication': 328,\n",
              " 'Communication;Creativity': 1,\n",
              " 'Dating': 195,\n",
              " 'Education': 468,\n",
              " 'Education;Action & Adventure': 6,\n",
              " 'Education;Brain Games': 4,\n",
              " 'Education;Creativity': 7,\n",
              " 'Education;Education': 50,\n",
              " 'Education;Music & Video': 5,\n",
              " 'Education;Pretend Play': 23,\n",
              " 'Educational': 32,\n",
              " 'Educational;Action & Adventure': 4,\n",
              " 'Educational;Brain Games': 6,\n",
              " 'Educational;Creativity': 5,\n",
              " 'Educational;Education': 38,\n",
              " 'Educational;Pretend Play': 18,\n",
              " 'Entertainment': 533,\n",
              " 'Entertainment;Action & Adventure': 3,\n",
              " 'Entertainment;Brain Games': 8,\n",
              " 'Entertainment;Creativity': 3,\n",
              " 'Entertainment;Education': 1,\n",
              " 'Entertainment;Music & Video': 27,\n",
              " 'Entertainment;Pretend Play': 2,\n",
              " 'Events': 45,\n",
              " 'Finance': 323,\n",
              " 'Food & Drink': 109,\n",
              " 'Health & Fitness': 297,\n",
              " 'Health & Fitness;Action & Adventure': 1,\n",
              " 'Health & Fitness;Education': 1,\n",
              " 'House & Home': 76,\n",
              " 'Libraries & Demo': 65,\n",
              " 'Lifestyle': 313,\n",
              " 'Lifestyle;Education': 1,\n",
              " 'Lifestyle;Pretend Play': 1,\n",
              " 'Maps & Navigation': 124,\n",
              " 'Medical': 350,\n",
              " 'Music': 21,\n",
              " 'Music & Audio;Music & Video': 1,\n",
              " 'Music;Music & Video': 3,\n",
              " 'News & Magazines': 233,\n",
              " 'Parenting': 40,\n",
              " 'Parenting;Brain Games': 1,\n",
              " 'Parenting;Education': 3,\n",
              " 'Parenting;Music & Video': 6,\n",
              " 'Personalization': 314,\n",
              " 'Photography': 317,\n",
              " 'Productivity': 351,\n",
              " 'Puzzle': 121,\n",
              " 'Puzzle;Action & Adventure': 5,\n",
              " 'Puzzle;Brain Games': 19,\n",
              " 'Puzzle;Creativity': 2,\n",
              " 'Puzzle;Education': 1,\n",
              " 'Racing': 93,\n",
              " 'Racing;Action & Adventure': 20,\n",
              " 'Racing;Pretend Play': 1,\n",
              " 'Role Playing': 106,\n",
              " 'Role Playing;Action & Adventure': 7,\n",
              " 'Role Playing;Brain Games': 1,\n",
              " 'Role Playing;Pretend Play': 5,\n",
              " 'Shopping': 238,\n",
              " 'Simulation': 194,\n",
              " 'Simulation;Action & Adventure': 11,\n",
              " 'Simulation;Education': 3,\n",
              " 'Simulation;Pretend Play': 4,\n",
              " 'Social': 259,\n",
              " 'Sports': 333,\n",
              " 'Sports;Action & Adventure': 4,\n",
              " 'Strategy': 103,\n",
              " 'Strategy;Action & Adventure': 2,\n",
              " 'Strategy;Creativity': 1,\n",
              " 'Strategy;Education': 1,\n",
              " 'Tools': 733,\n",
              " 'Tools;Education': 1,\n",
              " 'Travel & Local': 225,\n",
              " 'Travel & Local;Action & Adventure': 1,\n",
              " 'Trivia': 28,\n",
              " 'Video Players & Editors': 158,\n",
              " 'Video Players & Editors;Creativity': 2,\n",
              " 'Video Players & Editors;Music & Video': 3,\n",
              " 'Weather': 75,\n",
              " 'Word': 28}"
            ]
          },
          "metadata": {},
          "execution_count": 9
        }
      ]
    },
    {
      "cell_type": "code",
      "metadata": {
        "colab": {
          "base_uri": "https://localhost:8080/"
        },
        "id": "HZigV1-xhGui",
        "outputId": "fe6f8725-520a-4c9b-9f6e-7601f97c3543"
      },
      "source": [
        "dct['Action;Action & Adventure']"
      ],
      "execution_count": null,
      "outputs": [
        {
          "output_type": "execute_result",
          "data": {
            "text/plain": [
              "17"
            ]
          },
          "metadata": {},
          "execution_count": 10
        }
      ]
    },
    {
      "cell_type": "code",
      "metadata": {
        "id": "1blHhFTTlG4l"
      },
      "source": [
        "data = dataset.values"
      ],
      "execution_count": null,
      "outputs": []
    },
    {
      "cell_type": "code",
      "metadata": {
        "colab": {
          "base_uri": "https://localhost:8080/"
        },
        "id": "INKvSPQxlzIr",
        "outputId": "230c389a-3f68-4103-b692-ecc0e12b7424"
      },
      "source": [
        "c=0\n",
        "for i in data:\n",
        "  if(i[1]=='BOOKS_AND_REFERENCE' and i[6]=='Paid'and(i[8]=='Everyone'or i[9]=='Art & Design')):\n",
        "    c+=1\n",
        "    print(i[1],';',i[8],';',i[9])\n",
        "    print(i)\n",
        "print(c)"
      ],
      "execution_count": null,
      "outputs": [
        {
          "output_type": "stream",
          "name": "stdout",
          "text": [
            "BOOKS_AND_REFERENCE ; Everyone ; Books & Reference\n",
            "[\"Don't Panic with Andrew J.\" 'BOOKS_AND_REFERENCE' 4.5 '124'\n",
            " 'Varies with device' '5,000+' 'Paid' '$2.99' 'Everyone'\n",
            " 'Books & Reference']\n",
            "BOOKS_AND_REFERENCE ; Everyone ; Books & Reference\n",
            "[\"Hey AJ! It's Saturday!\" 'BOOKS_AND_REFERENCE' 5.0 '12' '50M' '100+'\n",
            " 'Paid' '$3.99' 'Everyone' 'Books & Reference']\n",
            "BOOKS_AND_REFERENCE ; Everyone ; Books & Reference\n",
            "[\"Al'Quran Bahasa Indonesia PRO\" 'BOOKS_AND_REFERENCE' 4.7 '1340' '11M'\n",
            " '10,000+' 'Paid' '$4.49' 'Everyone' 'Books & Reference']\n",
            "BOOKS_AND_REFERENCE ; Everyone ; Books & Reference\n",
            "['BC MVA Fines' 'BOOKS_AND_REFERENCE' 5.0 '5' '7.2M' '50+' 'Paid' '$1.75'\n",
            " 'Everyone' 'Books & Reference']\n",
            "BOOKS_AND_REFERENCE ; Everyone ; Books & Reference\n",
            "['17th Edition Cable Sizer' 'BOOKS_AND_REFERENCE' 4.4 '47' '1.4M' '1,000+'\n",
            " 'Paid' '$3.08' 'Everyone' 'Books & Reference']\n",
            "BOOKS_AND_REFERENCE ; Everyone ; Books & Reference\n",
            "['10,000 Quotes DB (Premium)' 'BOOKS_AND_REFERENCE' 4.1 '70' '3.5M' '500+'\n",
            " 'Paid' '$0.99' 'Everyone' 'Books & Reference']\n",
            "BOOKS_AND_REFERENCE ; Everyone ; Books & Reference\n",
            "['Dungeons and Dragons DM Tools' 'BOOKS_AND_REFERENCE' 3.1 '50' '4.9M'\n",
            " '1,000+' 'Paid' '$1.99' 'Everyone' 'Books & Reference']\n",
            "BOOKS_AND_REFERENCE ; Everyone ; Books & Reference\n",
            "['Officiel du SCRABBLE LAROUSSE' 'BOOKS_AND_REFERENCE' 3.4 '116' '48M'\n",
            " '5,000+' 'Paid' '$4.60' 'Everyone' 'Books & Reference']\n",
            "8\n"
          ]
        }
      ]
    },
    {
      "cell_type": "code",
      "metadata": {
        "id": "fLbjb5Tonu6G"
      },
      "source": [
        "def category(name):\n",
        "  c = 0\n",
        "  for i in dataset['Content Rating'].values:\n",
        "    if (i == name):\n",
        "      c += 1\n",
        "  return c"
      ],
      "execution_count": null,
      "outputs": []
    },
    {
      "cell_type": "code",
      "metadata": {
        "id": "nqxWzPQtt62R"
      },
      "source": [
        "dct = {}\n",
        "\n",
        "for i in dataset['Content Rating'].unique():\n",
        "  dct[i] = category(i)"
      ],
      "execution_count": null,
      "outputs": []
    },
    {
      "cell_type": "code",
      "metadata": {
        "id": "GQbLj16suwF0"
      },
      "source": [
        "import plotly.offline as pyo\n",
        "import plotly.graph_objs as go"
      ],
      "execution_count": null,
      "outputs": []
    },
    {
      "cell_type": "code",
      "metadata": {
        "id": "aA2DRB7B6fKr"
      },
      "source": [
        ""
      ],
      "execution_count": null,
      "outputs": []
    },
    {
      "cell_type": "code",
      "metadata": {
        "id": "JwFQqAJmxA1Y",
        "colab": {
          "base_uri": "https://localhost:8080/"
        },
        "outputId": "f902a7d6-1e59-444e-ad99-3ad9c5e85ed8"
      },
      "source": [
        "x=dct.keys()\n",
        "x"
      ],
      "execution_count": null,
      "outputs": [
        {
          "output_type": "execute_result",
          "data": {
            "text/plain": [
              "dict_keys(['Everyone', 'Teen', 'Everyone 10+', 'Mature 17+', 'Adults only 18+', 'Unrated'])"
            ]
          },
          "metadata": {},
          "execution_count": 16
        }
      ]
    },
    {
      "cell_type": "code",
      "metadata": {
        "id": "KH-J2shJxKLJ"
      },
      "source": [
        "y=dct.values()"
      ],
      "execution_count": null,
      "outputs": []
    },
    {
      "cell_type": "code",
      "metadata": {
        "colab": {
          "base_uri": "https://localhost:8080/"
        },
        "id": "kbV_JRd-9gma",
        "outputId": "ca2b5017-0628-48c5-dd50-ab3e7cb946ad"
      },
      "source": [
        "dct"
      ],
      "execution_count": null,
      "outputs": [
        {
          "output_type": "execute_result",
          "data": {
            "text/plain": [
              "{'Adults only 18+': 3,\n",
              " 'Everyone': 7420,\n",
              " 'Everyone 10+': 397,\n",
              " 'Mature 17+': 461,\n",
              " 'Teen': 1084,\n",
              " 'Unrated': 1}"
            ]
          },
          "metadata": {},
          "execution_count": 18
        }
      ]
    },
    {
      "cell_type": "code",
      "metadata": {
        "id": "QSEmiKU8v0vC"
      },
      "source": [
        "go.Bar(x=dct.keys(),y=dct.values())"
      ],
      "execution_count": null,
      "outputs": []
    },
    {
      "cell_type": "code",
      "metadata": {
        "id": "7Nhbvd7HuXgv"
      },
      "source": [
        "graph = [go.Bar(x = dct.keys(), y = dct.values())]\n",
        "layout = go.Layout(title = 'Content Rating Analysis')\n",
        "\n",
        "fig =go.Figure(graph, layout)"
      ],
      "execution_count": null,
      "outputs": []
    },
    {
      "cell_type": "code",
      "metadata": {
        "id": "LH9X7qTQ9YpK"
      },
      "source": [
        ""
      ],
      "execution_count": null,
      "outputs": []
    },
    {
      "cell_type": "code",
      "metadata": {
        "id": "tBS5eXG98hAF"
      },
      "source": [
        "df=pd.read_csv('https://raw.githubusercontent.com/AshishJangra27/Data-Analysis-Course-ETG/main/Dataset%20Preprocessing/googleplaystore.csv')"
      ],
      "execution_count": null,
      "outputs": []
    },
    {
      "cell_type": "code",
      "metadata": {
        "id": "fTmSIy4LDnqq"
      },
      "source": [
        "from sklearn.impute import SimpleImputer\n",
        "\n",
        "imputer = SimpleImputer(missing_values = np.nan, strategy = 'mean')"
      ],
      "execution_count": null,
      "outputs": []
    },
    {
      "cell_type": "code",
      "metadata": {
        "id": "YRDTy2JYDvln"
      },
      "source": [
        "df.drop(['Last Updated', 'Current Ver', 'Android Ver'], axis = 1, inplace = True)"
      ],
      "execution_count": null,
      "outputs": []
    },
    {
      "cell_type": "code",
      "metadata": {
        "colab": {
          "base_uri": "https://localhost:8080/"
        },
        "id": "qytkEd95EM6w",
        "outputId": "e2cf415d-7487-4936-bfe0-1bbf7959ab1b"
      },
      "source": [
        "df.isnull().sum()"
      ],
      "execution_count": null,
      "outputs": [
        {
          "output_type": "execute_result",
          "data": {
            "text/plain": [
              "App                  0\n",
              "Category             0\n",
              "Rating            1474\n",
              "Reviews              0\n",
              "Size                 0\n",
              "Installs             0\n",
              "Type                 1\n",
              "Price                0\n",
              "Content Rating       1\n",
              "Genres               0\n",
              "dtype: int64"
            ]
          },
          "metadata": {},
          "execution_count": 23
        }
      ]
    },
    {
      "cell_type": "code",
      "metadata": {
        "colab": {
          "base_uri": "https://localhost:8080/"
        },
        "id": "nqKBVHgxHTlX",
        "outputId": "96871a97-49b2-4a7f-e4be-6838db007a74"
      },
      "source": [
        "!pip install sklearn "
      ],
      "execution_count": null,
      "outputs": [
        {
          "output_type": "stream",
          "name": "stdout",
          "text": [
            "Requirement already satisfied: sklearn in /usr/local/lib/python3.7/dist-packages (0.0)\n",
            "Requirement already satisfied: scikit-learn in /usr/local/lib/python3.7/dist-packages (from sklearn) (1.0.1)\n",
            "Requirement already satisfied: joblib>=0.11 in /usr/local/lib/python3.7/dist-packages (from scikit-learn->sklearn) (1.1.0)\n",
            "Requirement already satisfied: scipy>=1.1.0 in /usr/local/lib/python3.7/dist-packages (from scikit-learn->sklearn) (1.4.1)\n",
            "Requirement already satisfied: numpy>=1.14.6 in /usr/local/lib/python3.7/dist-packages (from scikit-learn->sklearn) (1.19.5)\n",
            "Requirement already satisfied: threadpoolctl>=2.0.0 in /usr/local/lib/python3.7/dist-packages (from scikit-learn->sklearn) (3.0.0)\n"
          ]
        }
      ]
    },
    {
      "cell_type": "code",
      "metadata": {
        "id": "G8lD76KDOxct"
      },
      "source": [
        "rating = np.reshape(df['Rating'].values, (10841,1))"
      ],
      "execution_count": null,
      "outputs": []
    },
    {
      "cell_type": "code",
      "metadata": {
        "colab": {
          "base_uri": "https://localhost:8080/"
        },
        "id": "df9IvxNFO5Jj",
        "outputId": "768e3a2f-3f32-4de2-a8a1-fc7569a4aa9c"
      },
      "source": [
        "imputer.fit(rating)"
      ],
      "execution_count": null,
      "outputs": [
        {
          "output_type": "execute_result",
          "data": {
            "text/plain": [
              "SimpleImputer()"
            ]
          },
          "metadata": {},
          "execution_count": 26
        }
      ]
    },
    {
      "cell_type": "code",
      "metadata": {
        "colab": {
          "base_uri": "https://localhost:8080/"
        },
        "id": "lY5kJ6wuP60R",
        "outputId": "47b7a7d9-1a88-45e1-ee86-461bb110c111"
      },
      "source": [
        "rating[1:50]"
      ],
      "execution_count": null,
      "outputs": [
        {
          "output_type": "execute_result",
          "data": {
            "text/plain": [
              "array([[3.9],\n",
              "       [4.7],\n",
              "       [4.5],\n",
              "       [4.3],\n",
              "       [4.4],\n",
              "       [3.8],\n",
              "       [4.1],\n",
              "       [4.4],\n",
              "       [4.7],\n",
              "       [4.4],\n",
              "       [4.4],\n",
              "       [4.2],\n",
              "       [4.6],\n",
              "       [4.4],\n",
              "       [3.2],\n",
              "       [4.7],\n",
              "       [4.5],\n",
              "       [4.3],\n",
              "       [4.6],\n",
              "       [4. ],\n",
              "       [4.1],\n",
              "       [4.7],\n",
              "       [nan],\n",
              "       [4.7],\n",
              "       [4.8],\n",
              "       [4.7],\n",
              "       [4.1],\n",
              "       [3.9],\n",
              "       [4.1],\n",
              "       [4.2],\n",
              "       [4.1],\n",
              "       [4.5],\n",
              "       [4.2],\n",
              "       [4.7],\n",
              "       [3.8],\n",
              "       [4.7],\n",
              "       [4.1],\n",
              "       [4.7],\n",
              "       [4. ],\n",
              "       [4.2],\n",
              "       [4.5],\n",
              "       [4.4],\n",
              "       [3.8],\n",
              "       [4.2],\n",
              "       [4.7],\n",
              "       [4.6],\n",
              "       [4.2],\n",
              "       [4.3],\n",
              "       [4.2]])"
            ]
          },
          "metadata": {},
          "execution_count": 28
        }
      ]
    },
    {
      "cell_type": "code",
      "metadata": {
        "id": "Pg-NOYLIQFec"
      },
      "source": [
        "df.iloc[ : , 2:3 ] = imputer.transform(rating)"
      ],
      "execution_count": null,
      "outputs": []
    },
    {
      "cell_type": "code",
      "metadata": {
        "colab": {
          "base_uri": "https://localhost:8080/"
        },
        "id": "WY-sOKJyQ-E1",
        "outputId": "5959f168-d815-4a1c-d981-dbc549aca788"
      },
      "source": [
        "df.isnull().sum()"
      ],
      "execution_count": null,
      "outputs": [
        {
          "output_type": "execute_result",
          "data": {
            "text/plain": [
              "App               0\n",
              "Category          0\n",
              "Rating            0\n",
              "Reviews           0\n",
              "Size              0\n",
              "Installs          0\n",
              "Type              1\n",
              "Price             0\n",
              "Content Rating    1\n",
              "Genres            0\n",
              "dtype: int64"
            ]
          },
          "metadata": {},
          "execution_count": 30
        }
      ]
    },
    {
      "cell_type": "code",
      "metadata": {
        "id": "T2T9xLNJR_As"
      },
      "source": [
        "imputer = SimpleImputer(missing_values = np.nan, strategy = 'most_frequent')"
      ],
      "execution_count": null,
      "outputs": []
    },
    {
      "cell_type": "code",
      "metadata": {
        "colab": {
          "base_uri": "https://localhost:8080/"
        },
        "id": "2wqOwhhISDdy",
        "outputId": "1f57eb45-31f9-4aad-cb08-5f447634be28"
      },
      "source": [
        "type_ = np.reshape(df['Type'].values, (10841,1))\n",
        "imputer.fit(type_)"
      ],
      "execution_count": null,
      "outputs": [
        {
          "output_type": "execute_result",
          "data": {
            "text/plain": [
              "SimpleImputer(strategy='most_frequent')"
            ]
          },
          "metadata": {},
          "execution_count": 32
        }
      ]
    },
    {
      "cell_type": "code",
      "metadata": {
        "id": "bBkFAuyJSHKl"
      },
      "source": [
        "df.iloc[ : , 6:7 ] = imputer.transform(type_)"
      ],
      "execution_count": null,
      "outputs": []
    },
    {
      "cell_type": "code",
      "metadata": {
        "colab": {
          "base_uri": "https://localhost:8080/"
        },
        "id": "56iTocaZSPAg",
        "outputId": "529c723c-6437-452d-fd02-6639c86d49f9"
      },
      "source": [
        "df.isnull().sum()"
      ],
      "execution_count": null,
      "outputs": [
        {
          "output_type": "execute_result",
          "data": {
            "text/plain": [
              "App               0\n",
              "Category          0\n",
              "Rating            0\n",
              "Reviews           0\n",
              "Size              0\n",
              "Installs          0\n",
              "Type              0\n",
              "Price             0\n",
              "Content Rating    1\n",
              "Genres            0\n",
              "dtype: int64"
            ]
          },
          "metadata": {},
          "execution_count": 34
        }
      ]
    },
    {
      "cell_type": "code",
      "metadata": {
        "id": "Fznd8GKpemey"
      },
      "source": [
        "content_rating = np.reshape(df['Content Rating'].values, (10841,1))\n",
        "imputer.fit(content_rating)\n",
        "\n",
        "df.iloc[ : , 8:9] = imputer.transform(content_rating)"
      ],
      "execution_count": null,
      "outputs": []
    },
    {
      "cell_type": "code",
      "metadata": {
        "id": "gXTtmfSRep8O",
        "colab": {
          "base_uri": "https://localhost:8080/"
        },
        "outputId": "1b99c9da-0a91-4ef8-9d5d-f7e0dca3d7d4"
      },
      "source": [
        "df.isnull().sum()"
      ],
      "execution_count": null,
      "outputs": [
        {
          "output_type": "execute_result",
          "data": {
            "text/plain": [
              "App               0\n",
              "Category          0\n",
              "Rating            0\n",
              "Reviews           0\n",
              "Size              0\n",
              "Installs          0\n",
              "Type              0\n",
              "Price             0\n",
              "Content Rating    0\n",
              "Genres            0\n",
              "dtype: int64"
            ]
          },
          "metadata": {},
          "execution_count": 36
        }
      ]
    }
  ]
}